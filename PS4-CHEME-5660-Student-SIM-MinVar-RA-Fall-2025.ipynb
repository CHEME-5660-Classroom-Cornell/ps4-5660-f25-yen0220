{
 "cells": [
  {
   "cell_type": "markdown",
   "id": "d2534105-6383-4535-a269-6af6c4d1680b",
   "metadata": {},
   "source": [
    "## PS4: Single Index Models and Minimum Variance Portfolio Allocation\n",
    "In this problem set, we will use single index models to construct a minimum variance portfolio from a set of risky assets. We will then compare the performance of portfolios constructed using only primary tickers versus those that include low-correlation twin assets. What we will learning about including low-correlation assets in a portfolio optimization context?\n",
    "\n",
    "> __Learning Objectives:__\n",
    "> \n",
    "> By the end of this example, you should be able to:\n",
    "> * __Construct SIM-based covariance matrices__ using beta coefficients and market variance rather than direct estimation from historical returns data.\n",
    "> * __Compute efficient frontiers__ for primary tickers and for primary tickers paired with low-correlation twin assets using SIM-based optimization.\n",
    "> * __Evaluate portfolio performance__ by comparing wealth trajectories of SIM-based optimized portfolios, assessing the practical value of including low-correlation assets.\n",
    "\n",
    "Let's get started!\n",
    "___"
   ]
  },
  {
   "cell_type": "markdown",
   "id": "75c1691d-25c3-4f99-836d-5f01182c7842",
   "metadata": {},
   "source": [
    "## Setup, Data, and Prerequisites\n",
    "First, we set up the computational environment by including the `Include.jl` file and loading any needed resources.\n",
    "\n",
    "> __Include:__ The [`include(...)` command](https://docs.julialang.org/en/v1/base/base/#include) evaluates the contents of the input source file, `Include.jl`, in the notebook's global scope. The `Include.jl` file sets paths, loads required external packages, etc. For additional information on functions and types used in this material, see the [Julia programming language documentation](https://docs.julialang.org/en/v1/). \n",
    "\n",
    "Let's set up our code environment:"
   ]
  },
  {
   "cell_type": "code",
   "execution_count": null,
   "id": "914fab8e-454d-4f98-bbce-bd4ec2edaf29",
   "metadata": {
    "tags": []
   },
   "outputs": [],
   "source": [
    "include(joinpath(@__DIR__, \"Include-solution.jl\")); # include the Include.jl file # make a change"
   ]
  },
  {
   "cell_type": "markdown",
   "id": "e55483b1",
   "metadata": {},
   "source": [
    "For additional information on functions and types used in this material, see the [Julia programming language documentation](https://docs.julialang.org/en/v1/) and the [VLQuantitativeFinancePackage.jl documentation](https://github.com/varnerlab/VLQuantitativeFinancePackage.jl). "
   ]
  },
  {
   "cell_type": "markdown",
   "id": "f4a165c6-1a16-4d94-8ec7-e33cc54913a4",
   "metadata": {},
   "source": [
    "### Data\n",
    "We gathered daily open-high-low-close (OHLC) data for each firm in the [S&P 500](https://en.wikipedia.org/wiki/S%26P_500) from `01-03-2025` to `09-26-2025`, along with data for several exchange-traded funds and volatility products during that time period.\n",
    "\n",
    "Let's load the `original_dataset::DataFrame` by calling [the `MyTestingMarketDataSet()` function](https://varnerlab.github.io/VLQuantitativeFinancePackage.jl/dev/data/#VLQuantitativeFinancePackage.MyTestingMarketDataSet)."
   ]
  },
  {
   "cell_type": "code",
   "execution_count": null,
   "id": "ede4f7d8-de2a-4c06-81d9-5e462afc6df2",
   "metadata": {
    "tags": []
   },
   "outputs": [],
   "source": [
    "original_dataset = MyTestingMarketDataSet() |> x-> x[\"dataset\"] # load the original dataset (testing)"
   ]
  },
  {
   "cell_type": "markdown",
   "id": "7ee23930-149c-49ee-b468-2405dfa9d786",
   "metadata": {},
   "source": [
    "Not all tickers in our dataset have the maximum number of trading days for various reasons, such as acquisition or delisting events. Let's collect only those tickers with the maximum number of trading days.\n",
    "\n",
    "First, let's compute the number of records for a firm that we know has the maximum value, e.g., `AAPL`, and save that value in the `maximum_number_trading_days::Int64` variable:"
   ]
  },
  {
   "cell_type": "code",
   "execution_count": null,
   "id": "9229500e-ccad-46db-8df4-5665fb9e2589",
   "metadata": {
    "tags": []
   },
   "outputs": [],
   "source": [
    "maximum_number_trading_days = original_dataset[\"AAPL\"] |> nrow; # maximum number of trading days in our dataset"
   ]
  },
  {
   "cell_type": "markdown",
   "id": "3a74846d-0fc9-40b3-bddc-c9fee656114b",
   "metadata": {},
   "source": [
    "Now, let's iterate through our data and collect only tickers with `maximum_number_trading_days` records. Save that data in the `dataset::Dict{String,DataFrame}` variable:"
   ]
  },
  {
   "cell_type": "code",
   "execution_count": null,
   "id": "d75b54c3-c1d7-4f93-be35-2da7e42a86f1",
   "metadata": {
    "tags": []
   },
   "outputs": [],
   "source": [
    "dataset = let\n",
    "\n",
    "    # initialize -\n",
    "    dataset = Dict{String, DataFrame}();\n",
    "\n",
    "    # iterate through the dictionary; we can't guarantee a particular order\n",
    "    for (ticker, data) ∈ original_dataset  # we get each (K, V) pair!\n",
    "        if (nrow(data) == maximum_number_trading_days) # check if ticker has maximum trading days\n",
    "            dataset[ticker] = data;\n",
    "        end\n",
    "    end\n",
    "    dataset; # return\n",
    "end;"
   ]
  },
  {
   "cell_type": "markdown",
   "id": "7d776d45-97d1-48c6-9d70-c2e6840687a7",
   "metadata": {},
   "source": [
    "Let's get a list of the firms in our cleaned dataset and sort them alphabetically. We store the sorted firm ticker symbols in the `list_of_tickers_price_data::Array{String,1}` variable:"
   ]
  },
  {
   "cell_type": "code",
   "execution_count": null,
   "id": "5c80006a-3338-4f4b-9983-f2b366af5719",
   "metadata": {
    "tags": []
   },
   "outputs": [],
   "source": [
    "list_of_tickers_price_data = keys(dataset) |> collect |> sort;"
   ]
  },
  {
   "cell_type": "markdown",
   "id": "5487bb63",
   "metadata": {},
   "source": [
    "Finally, let's load the single index model parameters that we computed in the previous example. We'll store this data in the `sim_model_parameters::Dict{String,NamedTuple}` variable. In addition, we return a few other useful variables, such as the historical market growth rate, the mean and variance of the market growth, etc."
   ]
  },
  {
   "cell_type": "code",
   "execution_count": null,
   "id": "49ce4ecd",
   "metadata": {},
   "outputs": [],
   "source": [
    "sim_model_parameters,Gₘ,Ḡₘ, Varₘ = let\n",
    "\n",
    "    # initialize -\n",
    "    path_to_sim_model_parameters = joinpath(_PATH_TO_DATA,\"SIMs-SPY-SP500-01-03-14-to-12-31-24.jld2\");\n",
    "    sim_model_parameters = JLD2.load(path_to_sim_model_parameters);\n",
    "    parameters = sim_model_parameters[\"data\"]; # return\n",
    "\n",
    "    Gₘ = sim_model_parameters[\"Gₘ\"]; # Get the past market growth rate \n",
    "    Ḡₘ = sim_model_parameters[\"Ḡₘ\"]; # mean of market growth rates\n",
    "    Varₘ = sim_model_parameters[\"Varₘ\"]; # variance of market growth\n",
    "\n",
    "    # return -\n",
    "    parameters,  Gₘ , Ḡₘ, Varₘ;\n",
    "end;"
   ]
  },
  {
   "cell_type": "code",
   "execution_count": null,
   "id": "ca9356cd",
   "metadata": {},
   "outputs": [],
   "source": [
    "Varₘ"
   ]
  },
  {
   "cell_type": "markdown",
   "id": "53168d28",
   "metadata": {},
   "source": [
    "Now let's get a list of all tickers for which we have single index model parameters:"
   ]
  },
  {
   "cell_type": "code",
   "execution_count": null,
   "id": "b03ac6ea",
   "metadata": {},
   "outputs": [],
   "source": [
    "tickers_that_we_computed_sim_data_for = keys(sim_model_parameters) |> collect |> sort;"
   ]
  },
  {
   "cell_type": "markdown",
   "id": "6c2174d2",
   "metadata": {},
   "source": [
    "We need to use only the tickers for which we have both price data and SIM parameters. We'll compute [the intersection of the two lists](https://docs.julialang.org/en/v1/base/collections/#Base.intersect) and store the result in the `list_of_tickers::Array{String,1}` variable:"
   ]
  },
  {
   "cell_type": "code",
   "execution_count": null,
   "id": "af532ea2",
   "metadata": {},
   "outputs": [],
   "source": [
    "list_of_tickers = intersect(tickers_that_we_computed_sim_data_for, list_of_tickers_price_data);"
   ]
  },
  {
   "cell_type": "markdown",
   "id": "3489f983-ddb4-4f71-9500-51167768cc14",
   "metadata": {},
   "source": [
    "### Constants\n",
    "Finally, let's set some constants we'll use later in this notebook. The comments describe the constants, their units, and permissible values:"
   ]
  },
  {
   "cell_type": "code",
   "execution_count": null,
   "id": "82ff7747-f489-4750-bd52-81b9410ac379",
   "metadata": {
    "tags": []
   },
   "outputs": [],
   "source": [
    "risk_free_rate = 0.0389; # hypothetical continuous compounded risk free rate (units: 1/year)\n",
    "Δt = (1.0/252.0); # time step for 1-trading day (units: 1/year)\n",
    "number_of_points = 301; # number of points on the efficient frontier that we want to compute\n",
    "budget_in_risky_assets = 1000.0; # budget in USD to invest in risky assets\n",
    "\n",
    "# Named constants for plotting and analysis\n",
    "const PLOT_SKIP_FACTOR = 8; # skip every N points when plotting scatter markers\n",
    "const PLOT_FONT_SIZE = 18; # font size for plot labels\n",
    "const AXIS_LIMIT_MULTIPLIER = 1.1; # multiplier for axis limits (10% padding)"
   ]
  },
  {
   "cell_type": "markdown",
   "id": "1b143a56",
   "metadata": {},
   "source": [
    "___"
   ]
  },
  {
   "cell_type": "markdown",
   "id": "c5335b23",
   "metadata": {},
   "source": [
    "## Task 1: Risk and Return Matrices For Low Correlation Ticker Pairs\n",
    "In this task, we will set up the risk and return matrices that we will use in the minimum variance portfolio allocation. We'll do two versions: one using the primary tickers and another using the primary tickers paired with their low-correlation twins.\n",
    "\n",
    "Let's start by specifying a collection of ticker symbols, e.g., `AAPL`, `MSFT`, etc., that interest you in the `my_primary_list_of_tickers::Array{String,1}` array."
   ]
  },
  {
   "cell_type": "code",
   "execution_count": null,
   "id": "a6bdcea2",
   "metadata": {},
   "outputs": [],
   "source": [
    "my_primary_list_of_tickers = [\"AAPL\", \"MSFT\", \"INTC\", \"MU\", \"AMD\", \"GS\", \"BAC\", \"WFC\", \"C\", \"F\", \"GM\", \n",
    "    \"JNJ\", \"PG\", \"UPS\", \"COST\", \"TGT\", \"WMT\", \"MRK\", \"PFE\", \"ADBE\"]; # tickers selected for portfolio"
   ]
  },
  {
   "cell_type": "markdown",
   "id": "52919b9c",
   "metadata": {},
   "source": [
    "### Compute Low-Correlation Ticker Pairs\n",
    "Now that we have our primary list of tickers, let's compute the lowest correlation twin using the correlation written in terms of the single index model parameters. The correlation between firms $i$ and $j$ ($i\\neq j$) is given by:\n",
    "$$\n",
    "\\boxed{\n",
    "\\begin{align*}\n",
    "\\rho_{ij}\n",
    "&=\\frac{\\beta_i\\beta_j\\sigma_M^2}\n",
    "{\\sqrt{\\big(\\beta_i^2\\sigma_M^2+\\sigma_{\\epsilon_i}^2\\big)\\big(\\beta_j^2\\sigma_M^2+\\sigma_{\\epsilon_j}^2\\big)}}\\\\\n",
    "\\end{align*}}\n",
    "$$\n",
    "where $\\beta_i$ and $\\beta_j$ are the single index model beta coefficients for firms $i$ and $j$, respectively, $\\sigma_{M}^2$ is the market variance, and $\\sigma_{\\epsilon_i}^2$ and $\\sigma_{\\epsilon_j}^2$ are the idiosyncratic variances for firms $i$ and $j$, respectively.\n",
    "\n",
    "First, let's compute the correlation matrix for all firms in our dataset using the SIM parameters. We'll store the correlation matrix in the `CM::Array{Float64,2}` variable:"
   ]
  },
  {
   "cell_type": "code",
   "execution_count": null,
   "id": "db607c55",
   "metadata": {},
   "outputs": [],
   "source": [
    "CM = let\n",
    "\n",
    "    # initialize -\n",
    "    number_of_tickers = length(list_of_tickers);\n",
    "    correlation_matrix = Array{Float64,2}(undef, number_of_tickers, number_of_tickers);\n",
    "    σ²ₘ = Varₘ; # market variance\n",
    "\n",
    "    for i ∈ eachindex(list_of_tickers)\n",
    "        \n",
    "        ticker_i = list_of_tickers[i];\n",
    "        data_i = sim_model_parameters[ticker_i]; # get the data for ticker i\n",
    "        βᵢ = data_i.beta; # get beta for ticker i\n",
    "        σ²_εᵢ = (Δt)*data_i.training_variance; # residual variance for ticker i\n",
    "\n",
    "        for j ∈ eachindex(list_of_tickers)\n",
    "\n",
    "            ticker_j = list_of_tickers[j];\n",
    "            data_j = sim_model_parameters[ticker_j]; # get the data for ticker j\n",
    "            βⱼ = data_j.beta; # get beta for ticker j\n",
    "            σ²_εⱼ = (Δt)*data_j.training_variance; # residual variance for ticker j\n",
    "\n",
    "            if (i == j)\n",
    "                correlation_matrix[i,j] = 1.0; # variance case\n",
    "            else\n",
    "                covariance_ij = (βᵢ*βⱼ*σ²ₘ);\n",
    "                correlation_ij = covariance_ij / sqrt( (βᵢ^2*σ²ₘ + σ²_εᵢ)*(βⱼ^2*σ²ₘ + σ²_εⱼ) );\n",
    "                correlation_matrix[i,j] = correlation_ij;\n",
    "            end\n",
    "        end\n",
    "    end\n",
    "    correlation_matrix;\n",
    "end;"
   ]
  },
  {
   "cell_type": "markdown",
   "id": "613cfacb",
   "metadata": {},
   "source": [
    "Next, let's find the lowest correlation twin for each firm in our primary list of tickers. We'll store the primary tickers and their low-correlation twins in the `my_list_of_ticker_pairs::Array{Tuple{String,String},1}` variable:"
   ]
  },
  {
   "cell_type": "code",
   "execution_count": null,
   "id": "ff63b3d8",
   "metadata": {},
   "outputs": [],
   "source": [
    "my_list_of_ticker_pairs = let\n",
    "\n",
    "    # initialize -\n",
    "    my_list_of_twin_tickers = Set{String}();\n",
    "    \n",
    "    for i ∈ eachindex(my_primary_list_of_tickers)\n",
    "\n",
    "        primary_ticker = my_primary_list_of_tickers[i];\n",
    "        primary_index = findfirst(isequal(primary_ticker), list_of_tickers);\n",
    "        correlations_with_primary = CM[primary_index, :];\n",
    "\n",
    "        # get correlations for this primary ticker\n",
    "        correlations_with_primary = CM[primary_index, :];\n",
    "        \n",
    "        # create a list of (correlation, index) pairs, excluding self\n",
    "        correlation_pairs = [(correlations_with_primary[j], j) for j in eachindex(correlations_with_primary) if j != primary_index];\n",
    "        \n",
    "        # sort by correlation ascending (lowest first)\n",
    "        sort!(correlation_pairs, by = x -> x[1]);\n",
    "        \n",
    "        # find the first unused twin\n",
    "        twin_index = nothing;\n",
    "        for (corr, idx) in correlation_pairs\n",
    "            candidate_ticker = list_of_tickers[idx];\n",
    "            if (candidate_ticker ∈ my_list_of_twin_tickers) == false && (candidate_ticker ∈ my_primary_list_of_tickers) == false\n",
    "                twin_index = idx;\n",
    "                break;\n",
    "            end\n",
    "        end\n",
    "        \n",
    "        # if we found a twin, add it to the my_list_of_tickers -\n",
    "        if twin_index !== nothing\n",
    "            twin_ticker = list_of_tickers[twin_index];\n",
    "            push!(my_list_of_twin_tickers, twin_ticker);\n",
    "        end\n",
    "    end\n",
    "    a = my_list_of_twin_tickers |> collect |> sort;\n",
    "    b = my_primary_list_of_tickers;\n",
    "    c = [(b[i], a[i]) for i ∈ eachindex(b)];\n",
    "    c;\n",
    "end;"
   ]
  },
  {
   "cell_type": "markdown",
   "id": "cce44b9f",
   "metadata": {},
   "source": [
    "Let's display the primary tickers and their low-correlation twin pairs, along with the correlation values between them:"
   ]
  },
  {
   "cell_type": "code",
   "execution_count": null,
   "id": "dca21204",
   "metadata": {},
   "outputs": [],
   "source": [
    "let\n",
    "\n",
    "    # initialize -\n",
    "    number_of_ticker_pairs = length(my_list_of_ticker_pairs);\n",
    "    df = DataFrame();\n",
    "    \n",
    "    for i ∈ 1:number_of_ticker_pairs\n",
    "\n",
    "        # get the ticker pair -\n",
    "        (ticker_1, ticker_2) = my_list_of_ticker_pairs[i];\n",
    "\n",
    "        # get indices in the master list -\n",
    "        index_1 = findfirst(isequal(ticker_1), list_of_tickers);\n",
    "        index_2 = findfirst(isequal(ticker_2), list_of_tickers);\n",
    "\n",
    "        # get correlation -\n",
    "        correlation = CM[index_1, index_2];\n",
    "\n",
    "        # add to dataframe -\n",
    "        push!(df, (primary = ticker_1, twin = ticker_2, correlation = correlation));\n",
    "    end\n",
    "    \n",
    "    pretty_table(\n",
    "        df;\n",
    "        backend = :text,\n",
    "        fit_table_in_display_vertically = false,\n",
    "        table_format = TextTableFormat(borders = text_table_borders__compact)\n",
    "    );\n",
    "end"
   ]
  },
  {
   "cell_type": "markdown",
   "id": "abd57621",
   "metadata": {},
   "source": [
    "Now combine the primary tickers and their twins into a single list for use in the next calculations. We'll save the combined ticker list (primary + twins) in the `my_list_of_twin_tickers::Array{String,1}` variable:"
   ]
  },
  {
   "cell_type": "code",
   "execution_count": null,
   "id": "2a2ae5e4",
   "metadata": {},
   "outputs": [],
   "source": [
    "my_list_of_twin_tickers = let\n",
    "\n",
    "    # initialize -\n",
    "    my_list_of_tickers = Array{String,1}();\n",
    "    for (ticker_1, ticker_2) ∈ my_list_of_ticker_pairs\n",
    "        push!(my_list_of_tickers, ticker_1);\n",
    "        push!(my_list_of_tickers, ticker_2);\n",
    "    end\n",
    "    my_list_of_tickers;\n",
    "end;"
   ]
  },
  {
   "cell_type": "markdown",
   "id": "ba8ba6d4-726d-4254-a396-39478ef6ce0c",
   "metadata": {},
   "source": [
    "### SIM-Based Risk and Return Matrices\n",
    "Now we'll compute the expected return vector and covariance matrix using the single index model for the primary list of tickers and their low-correlation twins.\n",
    "\n",
    "We'll use the SIM formula for expected returns and the SIM-derived covariance structure. Store these in the `ĝ_sim_primary::Array{Float64,1}` and `Σ̂_sim_primary::Array{Float64,2}` variables:"
   ]
  },
  {
   "cell_type": "code",
   "execution_count": null,
   "id": "6d9258a1-0c39-4721-8d8c-e67070072ff5",
   "metadata": {
    "tags": []
   },
   "outputs": [],
   "source": [
    "ĝ_sim_primary, Σ̂_sim_primary = let\n",
    "\n",
    "    # initialize -\n",
    "    local_list_of_tickers = my_primary_list_of_tickers;\n",
    "    N = length(local_list_of_tickers); # number of assets in portfolio\n",
    "    μ_sim = Array{Float64,1}(); # drift vector\n",
    "    Σ̂_sim = Array{Float64,2}(undef, N, N); # covariance matrix for *our* portfolio\n",
    "    Ḡₘ = mean(Gₘ); # average market factor -\n",
    "    σ²ₘ = var(Gₘ); # variance of market factor\n",
    "\n",
    "    # compute the expected growth rate (return) for each of our tickers -\n",
    "    for i ∈ eachindex(local_list_of_tickers)\n",
    "        ticker = local_list_of_tickers[i];\n",
    "        data = sim_model_parameters[ticker]; # get the data for this ticker\n",
    "        αᵢ = data.alpha; # get alpha\n",
    "        βᵢ = data.beta; # get beta\n",
    "        Ḡᵢ = αᵢ + βᵢ* Ḡₘ; # compute the growth rate for this ticker\n",
    "        push!(μ_sim, Ḡᵢ); # append drift value to μ_sim\n",
    "    end\n",
    "\n",
    "    # compute the covariance matrix using the single index model -\n",
    "    for i ∈ eachindex(local_list_of_tickers)\n",
    "\n",
    "        ticker_i = local_list_of_tickers[i];\n",
    "        data_i = sim_model_parameters[ticker_i]; # get the data for ticker i\n",
    "        βᵢ = data_i.beta; # get beta for ticker i\n",
    "        σ²_εᵢ = (Δt)*data_i.training_variance; # residual variance for ticker i\n",
    "\n",
    "        for j ∈ eachindex(local_list_of_tickers)\n",
    "            \n",
    "            ticker_j = local_list_of_tickers[j];\n",
    "            data_j = sim_model_parameters[ticker_j]; # get the data for ticker j\n",
    "            βⱼ = data_j.beta; # get beta for ticker j\n",
    "            σ²_εⱼ = (Δt)*data_j.training_variance; # residual variance for ticker j\n",
    "            \n",
    "            if i == j\n",
    "                Σ̂_sim[i,j] = βᵢ*βⱼ*σ²ₘ + σ²_εᵢ; # diagonal elements\n",
    "            else\n",
    "                Σ̂_sim[i,j] = βᵢ*βⱼ*σ²ₘ; # off-diagonal elements\n",
    "            end\n",
    "        end\n",
    "    end\n",
    "\n",
    "    (μ_sim, Σ̂_sim*Δt); # return\n",
    "end;"
   ]
  },
  {
   "cell_type": "markdown",
   "id": "a60e92bf",
   "metadata": {},
   "source": [
    "and the twin growth rates and covariance matrix (which we will use later) in the `ĝ_sim_twins::Array{Float64,1}` and `Σ̂_sim_twins::Array{Float64,2}` variables:"
   ]
  },
  {
   "cell_type": "code",
   "execution_count": null,
   "id": "ef5ba1cf",
   "metadata": {},
   "outputs": [],
   "source": [
    "ĝ_sim_twins, Σ̂_sim_twins = let\n",
    "\n",
    "    # initialize -\n",
    "    local_list_of_tickers = my_list_of_twin_tickers;\n",
    "    N = length(local_list_of_tickers); # number of assets in portfolio\n",
    "    μ_sim = Array{Float64,1}(); # drift vector\n",
    "    Σ̂_sim = Array{Float64,2}(undef, N, N); # covariance matrix for *our* portfolio\n",
    "    Ḡₘ = mean(Gₘ); # average market factor -\n",
    "    σ²ₘ = var(Gₘ); # variance of market factor\n",
    "\n",
    "    # TODO: Uncomment to compute the expected growth rate (return) for each of our tickers -\n",
    "    # TODO: Once you uncommented the code below, don't forget to comment out the ErrorException line\n",
    "    # throw(ErrorException(\"Ooops! Need to compute the expected growth rate (return) for each of our tickers\"));\n",
    "    # compute the expected growth rate (return) for each of our tickers -\n",
    "    for i ∈ eachindex(local_list_of_tickers)\n",
    "        ticker = local_list_of_tickers[i];\n",
    "        data = sim_model_parameters[ticker]; # get the data for this ticker\n",
    "        αᵢ = data.alpha; # get alpha\n",
    "        βᵢ = data.beta; # get beta\n",
    "        Ḡᵢ = αᵢ + βᵢ* Ḡₘ; # compute the growth rate for this ticker\n",
    "        push!(μ_sim, Ḡᵢ); # append drift value to μ_sim\n",
    "    end\n",
    "\n",
    "    # TODO: Uncomment to compute the covariance matrix using the single index model -\n",
    "    # TODO: Once you uncommented the code below, don't forget to comment out the ErrorException line\n",
    "    # throw(ErrorException(\"Ooops! Need to compute the expected growth rate (return) for each of our tickers\"));\n",
    "    # compute the covariance matrix using the single index model -\n",
    "    for i ∈ eachindex(local_list_of_tickers)\n",
    "\n",
    "        ticker_i = local_list_of_tickers[i];\n",
    "        data_i = sim_model_parameters[ticker_i]; # get the data for ticker i\n",
    "        βᵢ = data_i.beta; # get beta for ticker i\n",
    "        σ²_εᵢ = (Δt)*data_i.training_variance; # residual variance for ticker i\n",
    "\n",
    "        for j ∈ eachindex(local_list_of_tickers)\n",
    "            \n",
    "            ticker_j = local_list_of_tickers[j];\n",
    "            data_j = sim_model_parameters[ticker_j]; # get the data for ticker j\n",
    "            βⱼ = data_j.beta; # get beta for ticker j\n",
    "            σ²_εⱼ = (Δt)*data_j.training_variance; # residual variance for ticker j\n",
    "            \n",
    "            if i == j\n",
    "                Σ̂_sim[i,j] = βᵢ*βⱼ*σ²ₘ + σ²_εᵢ; # diagonal elements\n",
    "            else\n",
    "                Σ̂_sim[i,j] = βᵢ*βⱼ*σ²ₘ; # off-diagonal elements\n",
    "            end\n",
    "        end\n",
    "    end\n",
    "\n",
    "    (μ_sim, Σ̂_sim*Δt); # return\n",
    "end;"
   ]
  },
  {
   "cell_type": "markdown",
   "id": "52b82f91",
   "metadata": {},
   "source": [
    "___"
   ]
  },
  {
   "cell_type": "markdown",
   "id": "401a2d24-deb1-4bbb-ba05-2f6c7611ea20",
   "metadata": {},
   "source": [
    "## Task 2: Compute the efficient frontiers for your collection of tickers\n",
    "Now we compute efficient frontiers using SIM-based optimization. We will calculate the efficient frontier for the primary tickers, and then for the primary tickers paired with low-correlation twins. This allows us to compare how the inclusion of low-correlation assets affects the efficient frontier.\n",
    "\n",
    "Build an instance of the [MyMarkowitzRiskyAssetOnlyPortfolioChoiceProblem type](https://varnerlab.github.io/VLQuantitativeFinancePackage.jl/dev/portfolio/#VLQuantitativeFinancePackage.MyMarkowitzRiskyAssetOnlyPortfolioChoiceProblem) using a custom [build(...) method](https://varnerlab.github.io/VLQuantitativeFinancePackage.jl/dev/portfolio/#VLQuantitativeFinancePackage.build-Tuple{Type{MyMarkowitzRiskyAssetOnlyPortfolioChoiceProblem},%20NamedTuple}) for the tickers in your primary list. We'll store this in the `problem_sim_primary::MyMarkowitzRiskyAssetOnlyPortfolioChoiceProblem` variable:"
   ]
  },
  {
   "cell_type": "code",
   "execution_count": null,
   "id": "8fe92cd2-dd7f-46e2-9a10-7a9f1de3f2d0",
   "metadata": {
    "tags": []
   },
   "outputs": [],
   "source": [
    "problem_sim_primary = let\n",
    "\n",
    "    # initialize -\n",
    "    local_list_of_tickers = my_primary_list_of_tickers;\n",
    "    number_of_firms = length(local_list_of_tickers);\n",
    "    wₒ = zeros(number_of_firms);\n",
    "    wₒ[1] = 1.0;\n",
    "    bounds = zeros(number_of_firms,2);\n",
    "    bounds[:,2] .= 1.0;\n",
    "\n",
    "    # Build the Markowitz problem instance -\n",
    "    problem_sim_primary = build(MyMarkowitzRiskyAssetOnlyPortfolioChoiceProblem, (\n",
    "        Σ = Σ̂_sim_primary, # sim cov matrix\n",
    "        μ = ĝ_sim_primary, # sim expected array\n",
    "        bounds = bounds,\n",
    "        initial = wₒ,\n",
    "        R = 0.0\n",
    "    ));\n",
    "\n",
    "    problem_sim_primary; # return\n",
    "end;"
   ]
  },
  {
   "cell_type": "markdown",
   "id": "8b44f2d0",
   "metadata": {},
   "source": [
    "Next, create a similar instance for the tickers in your primary list paired with their low-correlation twins. Store this in the `problem_sim_twins::MyMarkowitzRiskyAssetOnlyPortfolioChoiceProblem` variable:"
   ]
  },
  {
   "cell_type": "code",
   "execution_count": null,
   "id": "5fbced25",
   "metadata": {},
   "outputs": [],
   "source": [
    "problem_sim_twins = let\n",
    "\n",
    "    # initialize -\n",
    "    local_list_of_tickers =  my_list_of_twin_tickers;\n",
    "    number_of_firms = length(local_list_of_tickers);\n",
    "    wₒ = zeros(number_of_firms);\n",
    "    wₒ[1] = 1.0;\n",
    "    bounds = zeros(number_of_firms,2);\n",
    "    bounds[:,2] .= 1.0;\n",
    "    \n",
    "\n",
    "    # TODO: Build the Markowitz problem instance for the twin tickers. Once done, don't forget to comment out the ErrorException line\n",
    "    throw(ErrorException(\"Ooops! Need to build the Markowitz problem instance for the twin tickers\"));\n",
    "    \n",
    "    # Build the Markowitz problem instance -\n",
    "    problem_sim_twins = nothing;\n",
    "\n",
    "    problem_sim_twins; # return\n",
    "end;"
   ]
  },
  {
   "cell_type": "markdown",
   "id": "287c4ec0-e9d4-45c9-9c2e-7db7911b4b41",
   "metadata": {},
   "source": [
    "Now that we have both problems set up, we need to create an array with the minimum desired rewards (the calculation must achieve at least this much reward). In this case, assume we go from the risk-free rate to some multiple of the risk-free rate, taking `number_of_points::Int64` steps.  \n",
    "\n",
    "We store these values in the `minimum_desired_reward_array::Array{Float64,1}` variable:"
   ]
  },
  {
   "cell_type": "code",
   "execution_count": null,
   "id": "a62e9f23-02cb-4c3c-b5a0-30215ca2c86f",
   "metadata": {
    "tags": []
   },
   "outputs": [],
   "source": [
    "minimum_desired_reward_array = range(risk_free_rate, stop = 10*risk_free_rate, length = number_of_points) |> collect; # range from risk-free rate to 10x risk-free rate"
   ]
  },
  {
   "cell_type": "markdown",
   "id": "9e583610-fae9-4325-a3d1-70476ad2847c",
   "metadata": {},
   "source": [
    "We now iterate through the `minimum_desired_reward_array::Array{Float64,1}` and compute the minimum risk required to achieve the specified reward level using a `for` loop.\n",
    "\n",
    "For each pass through the loop, we:\n",
    "* Update the `problem` variable with the minimum desired reward (set the `R` field). We then pass the updated `problem` object to the [solve(...) method](https://varnerlab.github.io/VLQuantitativeFinancePackage.jl/dev/portfolio/#VLQuantitativeFinancePackage.solve-Tuple{MyMarkowitzRiskyAssetOnlyPortfolioChoiceProblem}) (which initializes and solves the optimization problem). The solution returned from the [solve(...) method](https://varnerlab.github.io/VLQuantitativeFinancePackage.jl/dev/portfolio/#VLQuantitativeFinancePackage.solve-Tuple{MyMarkowitzRiskyAssetOnlyPortfolioChoiceProblem}) is stored in the `solution` dictionary. \n",
    "* We check the `status` of the solution. If the `status` indicates an optimal solution was found, we store that solution in the `efficient_frontier` dictionary. In particular, we store the portfolio risk as the `key` and the expected return, risk, and allocation as the `value` in the `efficient_frontier` dictionary.\n",
    "\n",
    "Why the [try-catch environment](https://docs.julialang.org/en/v1/base/base/#try)? The [solve(...) method](https://varnerlab.github.io/VLQuantitativeFinancePackage.jl/dev/portfolio/#VLQuantitativeFinancePackage.solve-Tuple{MyMarkowitzRiskyAssetOnlyPortfolioChoiceProblem}) has an [@assert statement](https://docs.julialang.org/en/v1/base/base/#Base.@assert) to check if the calculation has converged. Thus, the solve method can [throw](https://docs.julialang.org/en/v1/base/base/#Core.throw) an [AssertionError](https://docs.julialang.org/en/v1/base/base/#Core.AssertionError) if the optimization problem fails to converge. To gracefully handle this case, we use a [try-catch construct](https://docs.julialang.org/en/v1/base/base/#try). See the [is_solved_and_feasible method from the JuMP package](https://jump.dev/JuMP.jl/stable/api/JuMP/#JuMP.is_solved_and_feasible) for more information."
   ]
  },
  {
   "cell_type": "code",
   "execution_count": null,
   "id": "8c80968c-cdf4-4759-9bc5-c21a32a40055",
   "metadata": {
    "tags": []
   },
   "outputs": [],
   "source": [
    "efficient_frontier_sim_primary = let\n",
    "\n",
    "    # initialize -\n",
    "    efficient_frontier = Dict{Float64, NamedTuple}();\n",
    "    problem_model = problem_sim_primary; # alias the problem so we can change it later\n",
    "\n",
    "    # main loop\n",
    "    for i ∈ eachindex(minimum_desired_reward_array)\n",
    "        problem_model.R = minimum_desired_reward_array[i]; # update the problem object with the min desired reward value\n",
    "\n",
    "        try\n",
    "            solution = solve(problem_model)\n",
    "            status_flag = solution[\"status\"];    \n",
    "\n",
    "            if (status_flag == MathOptInterface.LOCALLY_SOLVED)\n",
    "                risk_value = solution[\"objective_value\"]; # get the sqrt of the risk\n",
    "                reward_value = solution[\"reward\"];\n",
    "                allocation = solution[\"argmax\"]; # extract the optimal allocation\n",
    "                efficient_frontier[risk_value] = (risk = risk_value, reward = reward_value, w = allocation)\n",
    "            end\n",
    "        catch err\n",
    "            # Uncomment to see which R's failed ...\n",
    "            # println(\"Failed: desired R = $(problem_sim.R). Infeasible\");\n",
    "        end    \n",
    "    end\n",
    "    efficient_frontier;\n",
    "end;"
   ]
  },
  {
   "cell_type": "markdown",
   "id": "137dfed7",
   "metadata": {},
   "source": [
    "Next, do the same for the problem instance that includes the low-correlation twins. Store the efficient frontier in the `efficient_frontier_sim_twins::Dict{Float64, NamedTuple}` variable:"
   ]
  },
  {
   "cell_type": "code",
   "execution_count": null,
   "id": "62bd7703",
   "metadata": {},
   "outputs": [],
   "source": [
    "efficient_frontier_sim_twins = let\n",
    "\n",
    "    # initialize -\n",
    "    efficient_frontier = Dict{Float64, NamedTuple}();\n",
    "    problem_model = problem_sim_twins; # alias the problem so we can change it later\n",
    "\n",
    "    # main loop\n",
    "    for i ∈ eachindex(minimum_desired_reward_array)\n",
    "        problem_model.R = minimum_desired_reward_array[i]; # update the problem object with the min desired reward value\n",
    "\n",
    "        try\n",
    "            # TODO: Uncomment to solve the problem for the twin tickers. Once done, don't forget to comment out the ErrorException line\n",
    "            throw(ErrorException(\"Ooops! Need to solve the problem for the twin tickers\"));\n",
    "            # solution = solve(problem_model) # call's the solve function to compute optimal allocation\n",
    "            status_flag = solution[\"status\"];    \n",
    "\n",
    "            if (status_flag == MathOptInterface.LOCALLY_SOLVED)\n",
    "                risk_value = solution[\"objective_value\"]; # get the sqrt of the risk\n",
    "                reward_value = solution[\"reward\"];\n",
    "                allocation = solution[\"argmax\"]; # extract the optimal allocation\n",
    "                efficient_frontier[risk_value] = (risk = risk_value, reward = reward_value, w = allocation)\n",
    "            end\n",
    "        catch err\n",
    "            # Uncomment to see which R's failed ...\n",
    "            # println(\"Failed: desired R = $(problem_sim.R). Infeasible\");\n",
    "        end    \n",
    "    end\n",
    "    efficient_frontier;\n",
    "end;"
   ]
  },
  {
   "cell_type": "markdown",
   "id": "918fc16f",
   "metadata": {},
   "source": [
    "So what do we get stored in the efficient frontier dictionaries?"
   ]
  },
  {
   "cell_type": "code",
   "execution_count": null,
   "id": "c750f5d3",
   "metadata": {},
   "outputs": [],
   "source": [
    "efficient_frontier_sim_twins"
   ]
  },
  {
   "cell_type": "markdown",
   "id": "a71680c7",
   "metadata": {},
   "source": [
    "### Organize efficient frontier results into a matrix for analysis and visualization\n",
    "Transform the `efficient_frontier::Dict{Float64,NamedTuple}` dictionaries into a matrix format for plotting and analysis.\n",
    "\n",
    "> __What are we doing?__ Extract portfolio data from the `efficient_frontier::Dict{Float64,NamedTuple}` dictionary and organize it into the `results_array_sim::Array{Float64,2}` matrix. Sort portfolios by risk level and store risk, return, and allocation weights in matrix columns.\n",
    "\n",
    "> __What's in the results array?__ The `results_array_sim::Array{Float64,2}` has `number_of_portfolios::Int64` rows and `M+2` columns:\n",
    "> * Column 1: Sorted portfolio risk (standard deviation = √variance). Sorted from lowest to highest risk  \n",
    "> * Column 2: Portfolio expected return\n",
    "> * Columns 3 to M+2: Asset allocation weights for the `M::Int64` tickers\n",
    "\n",
    "Let's build the `results_array_sim_primary::Array{Float64,2}` from our efficient frontier solutions:"
   ]
  },
  {
   "cell_type": "code",
   "execution_count": null,
   "id": "ae7c13e1",
   "metadata": {},
   "outputs": [],
   "source": [
    "results_array_sim_primary = let\n",
    "\n",
    "    # initialize -\n",
    "    efficient_frontier = efficient_frontier_sim_primary; # alias the efficient frontier\n",
    "    local_list_of_tickers = my_primary_list_of_tickers; # alias the ticker list\n",
    "\n",
    "    # Build the results array -\n",
    "    number_of_portfolios = length(efficient_frontier); # how many portfolios do we have? (these all exited correctly)\n",
    "    M = length(local_list_of_tickers); # how many tickers do we have?\n",
    "    results_array = Array{Float64,2}(undef, number_of_portfolios, M+2);\n",
    "    risk_array_sorted = keys(efficient_frontier) |> collect |> sort;\n",
    "\n",
    "    for i ∈ eachindex(risk_array_sorted)\n",
    "        risk_value = risk_array_sorted[i] |> sqrt; # let's plot the sqrt of the risk\n",
    "        \n",
    "        data = efficient_frontier[risk_array_sorted[i]] # get the NamedTuple corresponding to this risk level\n",
    "        reward_value = data.reward;\n",
    "        w = data.w;\n",
    "\n",
    "        results_array[i,1] = risk_value;\n",
    "        results_array[i,2] = reward_value;\n",
    "        for j ∈ 1:M\n",
    "            results_array[i,2+j] = w[j];\n",
    "        end\n",
    "    end\n",
    "\n",
    "    results_array # return\n",
    "end"
   ]
  },
  {
   "cell_type": "markdown",
   "id": "acc02970",
   "metadata": {},
   "source": [
    "Next, do the same for data in the `efficient_frontier_sim_twins::Dict{Float64,NamedTuple}` dictionary. Store the results in the `results_array_sim_twins::Array{Float64,2}` variable:"
   ]
  },
  {
   "cell_type": "code",
   "execution_count": null,
   "id": "db8bdaef",
   "metadata": {},
   "outputs": [],
   "source": [
    "results_array_sim_twins = let\n",
    "\n",
    "    # initialize -\n",
    "    efficient_frontier = efficient_frontier_sim_twins; # alias the efficient frontier\n",
    "    local_list_of_tickers = my_list_of_twin_tickers; # alias the ticker list\n",
    "\n",
    "    # TODO: Build the results array -\n",
    "    # TODO: Uncomment to build the results array for the twin tickers. Once done, don't forget to comment out the ErrorException line\n",
    "    # throw(ErrorException(\"Ooops! Need to build the results array for the twin tickers\"));\n",
    "    number_of_portfolios = length(efficient_frontier); # how many portfolios do we have? (these all exited correctly)\n",
    "    M = length(local_list_of_tickers); # how many tickers do we have?\n",
    "    results_array = Array{Float64,2}(undef, number_of_portfolios, M+2);\n",
    "    risk_array_sorted = keys(efficient_frontier) |> collect |> sort;\n",
    "\n",
    "    for i ∈ eachindex(risk_array_sorted)\n",
    "        risk_value = risk_array_sorted[i] |> sqrt; # let's plot the sqrt of the risk\n",
    "        \n",
    "        data = efficient_frontier[risk_array_sorted[i]] # get the NamedTuple corresponding to this risk level\n",
    "        reward_value = data.reward;\n",
    "        w = data.w;\n",
    "\n",
    "        results_array[i,1] = risk_value;\n",
    "        results_array[i,2] = reward_value;\n",
    "        for j ∈ 1:M\n",
    "            results_array[i,2+j] = w[j];\n",
    "        end\n",
    "    end\n",
    "\n",
    "    results_array # return\n",
    "end"
   ]
  },
  {
   "cell_type": "markdown",
   "id": "7166f52d",
   "metadata": {},
   "source": [
    "### Visualize the Efficient Frontier\n",
    "With our efficient frontiers computed and organized into matrix format, we can now visualize the classic risk-return trade-off that Markowitz theory reveals. The efficient frontier shows the boundary of achievable risk-return combinations for our selected assets."
   ]
  },
  {
   "cell_type": "code",
   "execution_count": null,
   "id": "b2af1534",
   "metadata": {},
   "outputs": [],
   "source": [
    "let\n",
    "\n",
    "    # initialize -\n",
    "    skip = PLOT_SKIP_FACTOR;\n",
    "\n",
    "    # -- PRIMARY TICKERS SIM PLOT START --------------------------------------------------------------------- #\n",
    "    results_array = results_array_sim_primary; # alias the results array\n",
    "    efficient_frontier = efficient_frontier_sim_primary; # alias the efficient frontier\n",
    "    max_risk_value = results_array[end,1]; # what is the biggest risk we have (x-axis value)\n",
    "    max_reward_value = results_array[end,2]; # what is the biggest reward that we have (y-axis value)\n",
    "    number_of_portfolios_sim = length(efficient_frontier); # how many portfolios did we recover?\n",
    "    plot(results_array[:,1], results_array[:,2], lw=4, xlabel=\"Risk sqrt(variance)\", \n",
    "        ylabel=\"Portfolio log growth (1/yr)\", fontsize=PLOT_FONT_SIZE, label=\"SIM\", c=:red, \n",
    "        xlim=(0.0, AXIS_LIMIT_MULTIPLIER*max_risk_value), ylim = (0.0, AXIS_LIMIT_MULTIPLIER*max_reward_value))\n",
    "    scatter!(results_array[1:skip:number_of_portfolios_sim,1], results_array[1:skip:number_of_portfolios_sim,2], \n",
    "        label=\"\", c=:white, ms=4, msc=:red)\n",
    "    \n",
    "    # --PRIMARY TICKERS SIM PLOT END ----------------------------------------------------------------------- #\n",
    "\n",
    "    # -- TWIN TICKERS SIM PLOT START ----------------------------------------------------------------------- #\n",
    "    results_array = results_array_sim_twins; # alias the results array\n",
    "    efficient_frontier = efficient_frontier_sim_twins; # alias the efficient frontier\n",
    "\n",
    "    max_risk_value = results_array[end,1]; # what is the biggest risk we have (x-axis value)\n",
    "    max_reward_value = results_array[end,2]; # what is the biggest reward that we have (y-axis value)\n",
    "    number_of_portfolios_sim = length(efficient_frontier); # how many portfolios did we recover?\n",
    "    plot!(results_array[:,1], results_array[:,2], lw=4, xlabel=\"Risk sqrt(variance)\", \n",
    "        ylabel=\"Portfolio log growth (1/yr)\", fontsize=PLOT_FONT_SIZE, label=\"SIM-TWINS\", c=:gray20, \n",
    "        xlim=(0.0, AXIS_LIMIT_MULTIPLIER*max_risk_value), ylim = (0.0, AXIS_LIMIT_MULTIPLIER*max_reward_value))\n",
    "    scatter!(results_array[1:skip:number_of_portfolios_sim,1], results_array[1:skip:number_of_portfolios_sim,2], \n",
    "        label=\"\", c=:white, ms=4, msc=:gray20)\n",
    "    # -- TWIN TICKERS SIM PLOT END ------------------------------------------------------------------------- #\n",
    "\n",
    "    plot!(bg=\"gray95\", background_color_outside=\"white\", framestyle = :box, fg_legend = :transparent);\n",
    "\n",
    "end"
   ]
  },
  {
   "cell_type": "markdown",
   "id": "2c1cda84",
   "metadata": {},
   "source": [
    "### Discussion Question for Task 2\n",
    "\n",
    "__Question:__ Examine the two efficient frontiers plotted above (the primary tickers SIM portfolio in red and the primary+twins SIM portfolio in gray). The primary+twins portfolio includes low-correlation assets paired with each original ticker.\n",
    "\n",
    "Compare the shape, position, and risk-return characteristics of these two efficient frontiers. Specifically:\n",
    "1. Which efficient frontier offers better risk-adjusted returns (higher return for the same risk, or lower risk for the same return)?\n",
    "2. What does this tell you about the benefit of including low-correlation assets in a portfolio?\n",
    "3. How does diversification through low-correlation assets affect the efficient frontier's position and curvature?\n",
    "\n",
    "Provide your analysis and interpretation below, supporting your conclusions with specific observations from the plot."
   ]
  },
  {
   "cell_type": "markdown",
   "id": "72875a88",
   "metadata": {},
   "source": [
    "__Answers here:__ Put your answers to the discussion questions for task 2 here."
   ]
  },
  {
   "cell_type": "code",
   "execution_count": null,
   "id": "bb27ef05",
   "metadata": {},
   "outputs": [],
   "source": [
    "did_I_answer_the_discussion_questions_task_2 = true; # set to {true | false} if you answered the discussion question"
   ]
  },
  {
   "cell_type": "markdown",
   "id": "fb1bf4c2",
   "metadata": {},
   "source": [
    "___"
   ]
  },
  {
   "cell_type": "markdown",
   "id": "a967a000-5c52-4592-9b57-c1352785832a",
   "metadata": {},
   "source": [
    "## Task 3: Portfolio Performance Evaluation\n",
    "We now evaluate the actual wealth trajectories of portfolios constructed using the SIM-based allocations from Task 2. We compare the primary, primary+twins, and SPY portfolios to assess real-world portfolio performance.\n",
    "\n",
    "To begin, specify a desired portfolio growth rate in the `desired_growth_rate::Float64` variable:"
   ]
  },
  {
   "cell_type": "code",
   "execution_count": null,
   "id": "7d78bbf3-437c-4585-905e-63f624e43f75",
   "metadata": {},
   "outputs": [],
   "source": [
    "desired_growth_rate = 0.20; # select a desired *excess* return where both approaches have data"
   ]
  },
  {
   "cell_type": "markdown",
   "id": "08bea4c9-c150-49a2-a289-bb8a24db7c40",
   "metadata": {},
   "source": [
    "Next, let's (re)resolve the minimum variance problem for the primary list of tickers, and the low-correlation twins using the same desired growth rate, specified in the `desired_growth_rate` variable. \n",
    "\n",
    "Update the appropriate problem instances with the new `R` field, and then call the [solve(...) method](https://varnerlab.github.io/VLQuantitativeFinancePackage.jl/dev/portfolio/#VLQuantitativeFinancePackage.solve-Tuple{MyMarkowitzRiskyAssetOnlyPortfolioChoiceProblem}) to resolve the optimization problem. Store the solution in the `desired_solution_sim_primary::Dict{String, Any}` variable:"
   ]
  },
  {
   "cell_type": "code",
   "execution_count": null,
   "id": "6b51e88f-330f-46a7-b219-a48866d89112",
   "metadata": {
    "jupyter": {
     "source_hidden": true
    }
   },
   "outputs": [],
   "source": [
    "desired_solution_sim_primary = let\n",
    "\n",
    "    # initialize -\n",
    "    problem_model = problem_sim_primary; # alias the problem so we can change it later\n",
    "    problem_model.R = desired_growth_rate;\n",
    "    solution_sim = nothing;\n",
    "    \n",
    "    try\n",
    "        solution_sim = solve(problem_model);\n",
    "    catch err\n",
    "        # Uncomment below to see error message\n",
    "        println(\"What the what? Something happened: $(err)\");\n",
    "    end\n",
    "\n",
    "    solution_sim; # return\n",
    "end;"
   ]
  },
  {
   "cell_type": "markdown",
   "id": "4c3bcd57",
   "metadata": {},
   "source": [
    "Next, do the same for the low-correlation twin problem instance. Store the solution in the `desired_solution_sim_twin::Dict{String, Any}` variable:"
   ]
  },
  {
   "cell_type": "code",
   "execution_count": null,
   "id": "c866bf6a",
   "metadata": {},
   "outputs": [],
   "source": [
    "desired_solution_sim_twins = let\n",
    "\n",
    "    # initialize -\n",
    "    problem_model = problem_sim_twins; # alias the problem so we can change it later\n",
    "    problem_model.R = desired_growth_rate;\n",
    "    solution_sim = nothing;\n",
    "    \n",
    "    try\n",
    "        solution_sim = solve(problem_model);\n",
    "    catch err\n",
    "        # Uncomment below to see error message\n",
    "        println(\"What the what? Something happened: $(err)\");\n",
    "    end\n",
    "\n",
    "    solution_sim; # return\n",
    "end;"
   ]
  },
  {
   "cell_type": "code",
   "execution_count": null,
   "id": "a20d2753",
   "metadata": {},
   "outputs": [],
   "source": [
    "desired_solution_sim_twins"
   ]
  },
  {
   "cell_type": "markdown",
   "id": "1a23e758",
   "metadata": {},
   "source": [
    "Compute the number of shares held in each asset in the __primary portfolio__, assuming we invested `budget_in_risky_assets::Float64` USD in the risky assets in this portfolio. Store the number of shares in the `n₁::Array{Float64,1}` variable:"
   ]
  },
  {
   "cell_type": "code",
   "execution_count": null,
   "id": "0d744e60",
   "metadata": {},
   "outputs": [],
   "source": [
    "n₁ = let\n",
    "\n",
    "    # initialize -\n",
    "    local_list_of_tickers = my_primary_list_of_tickers;\n",
    "    w = desired_solution_sim_primary[\"argmax\"]; # extract the allocation from the desired solution\n",
    "    n = Array{Float64,1}(undef, length(w)); # number of shares\n",
    "    B = budget_in_risky_assets; # total budget to invest in risky assets\n",
    "\n",
    "    for i ∈ eachindex(w)\n",
    "        ticker = local_list_of_tickers[i];\n",
    "        price = dataset[ticker][1, :open]; # get the most recent opening price\n",
    "        dollar_amount = w[i]*B; # dollar amount to invest in this asset\n",
    "        n[i] = (dollar_amount/price) |> abs; # number of shares to buy (rounded down)\n",
    "    end\n",
    "\n",
    "    n; # return the number of shares array\n",
    "end;"
   ]
  },
  {
   "cell_type": "markdown",
   "id": "3b5f62a2",
   "metadata": {},
   "source": [
    "Do the same for the low-correlation __twin portfolio__. Store the number of shares in the `n₂::Array{Float64,1}` variable:"
   ]
  },
  {
   "cell_type": "code",
   "execution_count": null,
   "id": "7c75e02f",
   "metadata": {},
   "outputs": [],
   "source": [
    "n₂ = let\n",
    "\n",
    "    # initialize -\n",
    "    local_list_of_tickers =  my_list_of_twin_tickers;\n",
    "    w = desired_solution_sim_twins[\"argmax\"]; # extract the allocation from the desired solution\n",
    "    n = Array{Float64,1}(undef, length(w)); # number of shares\n",
    "    B = budget_in_risky_assets; # total budget to invest in risky assets\n",
    "\n",
    "    for i ∈ eachindex(w)\n",
    "        ticker = local_list_of_tickers[i];\n",
    "        price = dataset[ticker][1, :open]; # get the most recent opening price\n",
    "        dollar_amount = w[i]*B; # dollar amount to invest in this asset\n",
    "        n[i] = (dollar_amount/price) |> abs; # number of shares to buy (rounded down)\n",
    "    end\n",
    "\n",
    "    n; # return the number of shares array\n",
    "end;"
   ]
  },
  {
   "cell_type": "markdown",
   "id": "afca3af4",
   "metadata": {},
   "source": [
    "Next, let's compute the number of shares of the alternative market portfolio, e.g., `SPY`, assuming we invested the same total budget of `budget_in_risky_assets::Float64` USD in that asset. Store the result in the `n_alternative::Float64` variable:"
   ]
  },
  {
   "cell_type": "code",
   "execution_count": null,
   "id": "ead4e4ee",
   "metadata": {},
   "outputs": [],
   "source": [
    "n_alternative = let\n",
    "\n",
    "    # initialize -\n",
    "    B = budget_in_risky_assets; # use the actual invested budget\n",
    "    ticker = \"SPY\"; # alternative market portfolio\n",
    "    price = dataset[ticker][1, :open]; # get the most recent opening price\n",
    "    n_spy = B/price; # number of shares to buy (rounded down)\n",
    "    n_spy; # return\n",
    "end;"
   ]
  },
  {
   "cell_type": "markdown",
   "id": "1a671457",
   "metadata": {},
   "source": [
    "Now compute the wealth trajectories for three portfolios: the primary portfolio, the primary portfolio with low correlation twins, and the alternative market portfolio (`SPY`). Store these in the `W₁::Array{Float64,1}`, `W₂::Array{Float64,1}`, and `Wₐ::Array{Float64,1}` arrays:"
   ]
  },
  {
   "cell_type": "code",
   "execution_count": null,
   "id": "7969b833",
   "metadata": {},
   "outputs": [],
   "source": [
    "W₁,W₂,Wₐ = let\n",
    "    \n",
    "    # initialize -\n",
    "    W₁ = Array{Float64,1}(undef, maximum_number_trading_days); # wealth for primary portfolio\n",
    "    W₂ = Array{Float64,1}(undef, maximum_number_trading_days); # wealth for twin portfolio\n",
    "    Wₐ = Array{Float64,1}(undef, maximum_number_trading_days); # wealth for alternative portfolio, e.g., SPY\n",
    "\n",
    "    for i ∈ 1:maximum_number_trading_days\n",
    "        \n",
    "        # Wealth: primary portfolio\n",
    "        local_list_of_tickers = my_primary_list_of_tickers\n",
    "        Sᵢ = [dataset[local_list_of_tickers[j]][i, :close] for j ∈ eachindex(local_list_of_tickers) ]; # prices at time i\n",
    "        W₁[i] = sum(n₁[j]*Sᵢ[j] for j ∈ eachindex(local_list_of_tickers)); # wealth at time i for primary portfolio\n",
    "\n",
    "        # Wealth: twin portfolio\n",
    "        local_list_of_tickers = my_list_of_twin_tickers\n",
    "        Sᵢ = [dataset[local_list_of_tickers[j]][i, :close] for j ∈ eachindex(local_list_of_tickers) ]; # prices at time i\n",
    "        W₂[i] = sum(n₂[j]*Sᵢ[j] for j ∈ eachindex(local_list_of_tickers)); # wealth at time i for twin portfolio\n",
    "\n",
    "        # Wealth: alternative portfolio, e.g., SPY -    \n",
    "        Wₐ[i] = n_alternative*dataset[\"SPY\"][i, :close];\n",
    "    end\n",
    "\n",
    "    (W₁, W₂, Wₐ); # return\n",
    "end;"
   ]
  },
  {
   "cell_type": "markdown",
   "id": "ea297c1a",
   "metadata": {},
   "source": [
    "Visualize the out-of-sample wealth trajectories for the three portfolios. The plot shows how different capital allocation strategies perform compared to the alternative market portfolio (`SPY`) strategy:"
   ]
  },
  {
   "cell_type": "code",
   "execution_count": null,
   "id": "8a2dc4e0",
   "metadata": {},
   "outputs": [],
   "source": [
    "let\n",
    "\n",
    "    plot(1:maximum_number_trading_days, W₁, lw=4, xlabel=\"Trading Day Index (2025)\", \n",
    "        ylabel=\"Wealth Index (USD)\", fontsize=18, label=\"Primary Portfolio\", c=:red)\n",
    "\n",
    "    plot!(1:maximum_number_trading_days, Wₐ, lw=4, xlabel=\"Trading Day Index (2025)\", \n",
    "        ylabel=\"Wealth Index (USD)\", fontsize=18, label=\"Alternative Portfolio (SPY)\", c=:navy)\n",
    "\n",
    "    plot!(1:maximum_number_trading_days, W₂, lw=4, xlabel=\"Trading Day Index (2025)\", \n",
    "        ylabel=\"Wealth Index (USD)\", fontsize=18, label=\"Primary+Twins\", c=:green)\n",
    "\n",
    "\n",
    "    plot!(bg=\"gray95\", background_color_outside=\"white\", framestyle = :box, fg_legend = :transparent);\n",
    "end"
   ]
  },
  {
   "cell_type": "code",
   "execution_count": null,
   "id": "3d40e5dd",
   "metadata": {},
   "outputs": [],
   "source": [
    "do_I_see_the_wealth_trajectory_plot = true; # set to {true | false} if you see the wealth trajectory plot   "
   ]
  },
  {
   "cell_type": "markdown",
   "id": "1d001d4a",
   "metadata": {},
   "source": [
    "### Discussion Question for Task 3\n",
    "\n",
    "__Question:__ Analyze the wealth trajectory plot above, which compares three investment strategies over the 2025 trading period:\n",
    "- Primary Portfolio (red): Uses only the original ticker list with SIM-based optimization\n",
    "- Primary+Twins Portfolio (green): Includes low-correlation twin assets for each primary ticker\n",
    "- Alternative Portfolio (navy): Simple buy-and-hold strategy with SPY (S&P 500 ETF)\n",
    "\n",
    "Based on the wealth trajectories shown:\n",
    "1. Which portfolio strategy achieved the highest terminal wealth by the end of the period?\n",
    "2. How do the volatility characteristics differ among the three strategies? Which appears most volatile?\n",
    "3. Given that all three portfolios started with the same initial investment of 1000 USD, what does this tell you about the practical value of adding low-correlation assets to reduce portfolio risk?\n",
    "4. Would you recommend the complexity of maintaining the Primary+Twins portfolio over the simpler SPY alternative? Justify your answer with specific observations from the wealth trajectories.\n",
    "\n",
    "Provide your detailed analysis below, referencing specific patterns or features from the plot to support your conclusions."
   ]
  },
  {
   "cell_type": "markdown",
   "id": "ca9a0b9c",
   "metadata": {},
   "source": [
    "__Answers here:__ Put your answers to the discussion questions for task 3 here."
   ]
  },
  {
   "cell_type": "code",
   "execution_count": null,
   "id": "77c26c2a",
   "metadata": {},
   "outputs": [],
   "source": [
    "did_I_answer_the_discussion_questions_for_task_3 = true; # set to {true | false} if you answered the discussion question"
   ]
  },
  {
   "cell_type": "markdown",
   "id": "9555607d",
   "metadata": {},
   "source": [
    "___"
   ]
  },
  {
   "cell_type": "markdown",
   "id": "e1e11dfd",
   "metadata": {},
   "source": [
    "## Tests\n",
    "The code block below shows how we implemented the tests and what we are testing. In these tests, we check values in your notebook and give feedback on which items are correct, missing, etc."
   ]
  },
  {
   "cell_type": "code",
   "execution_count": null,
   "id": "e24b8fb8",
   "metadata": {},
   "outputs": [],
   "source": [
    "@testset verbose = true \"CHEME 5660 PS4 Test Suite\" begin\n",
    "\n",
    "    # Task 1: Risk and Return Matrices For Low Correlation Ticker Pairs\n",
    "    @testset \"Task 1: Risk and Return Matrices\" begin\n",
    "        @testset \"Primary Tickers\" begin\n",
    "            @test isdefined(Main, :my_primary_list_of_tickers)\n",
    "            @test typeof(my_primary_list_of_tickers) == Array{String,1}\n",
    "            @test length(my_primary_list_of_tickers) > 0\n",
    "        end\n",
    "\n",
    "        @testset \"Correlation Matrix\" begin\n",
    "            @test isdefined(Main, :CM)\n",
    "            @test typeof(CM) == Array{Float64,2}\n",
    "            @test size(CM, 1) == size(CM, 2) == length(list_of_tickers)\n",
    "        end\n",
    "\n",
    "        @testset \"Ticker Pairs\" begin\n",
    "            @test isdefined(Main, :my_list_of_ticker_pairs)\n",
    "            @test typeof(my_list_of_ticker_pairs) == Array{Tuple{String,String},1}\n",
    "            @test length(my_list_of_ticker_pairs) == length(my_primary_list_of_tickers)\n",
    "        end\n",
    "\n",
    "        @testset \"Twin Tickers\" begin\n",
    "            @test isdefined(Main, :my_list_of_twin_tickers)\n",
    "            @test typeof(my_list_of_twin_tickers) == Array{String,1}\n",
    "            @test length(my_list_of_twin_tickers) == 2 * length(my_primary_list_of_tickers)\n",
    "        end\n",
    "\n",
    "        @testset \"SIM Matrices Primary\" begin\n",
    "            @test isdefined(Main, :ĝ_sim_primary)\n",
    "            @test typeof(ĝ_sim_primary) == Array{Float64,1}\n",
    "            @test length(ĝ_sim_primary) == length(my_primary_list_of_tickers)\n",
    "            @test isdefined(Main, :Σ̂_sim_primary)\n",
    "            @test typeof(Σ̂_sim_primary) == Array{Float64,2}\n",
    "            @test size(Σ̂_sim_primary) == (length(my_primary_list_of_tickers), length(my_primary_list_of_tickers))\n",
    "        end\n",
    "\n",
    "        @testset \"SIM Matrices Twins\" begin\n",
    "            @test isdefined(Main, :ĝ_sim_twins)\n",
    "            @test typeof(ĝ_sim_twins) == Array{Float64,1}\n",
    "            @test length(ĝ_sim_twins) == length(my_list_of_twin_tickers)\n",
    "            @test isdefined(Main, :Σ̂_sim_twins)\n",
    "            @test typeof(Σ̂_sim_twins) == Array{Float64,2}\n",
    "            @test size(Σ̂_sim_twins) == (length(my_list_of_twin_tickers), length(my_list_of_twin_tickers))\n",
    "        end\n",
    "    end\n",
    "\n",
    "    # Task 2: Compute the efficient frontiers for your collection of tickers\n",
    "    @testset \"Task 2: Efficient Frontiers\" begin\n",
    "        @testset \"Markowitz Problems\" begin\n",
    "            @test isdefined(Main, :problem_sim_primary)\n",
    "            @test typeof(problem_sim_primary) == MyMarkowitzRiskyAssetOnlyPortfolioChoiceProblem\n",
    "            @test isdefined(Main, :problem_sim_twins)\n",
    "            @test typeof(problem_sim_twins) == MyMarkowitzRiskyAssetOnlyPortfolioChoiceProblem\n",
    "        end\n",
    "\n",
    "        @testset \"Reward Array\" begin\n",
    "            @test isdefined(Main, :minimum_desired_reward_array)\n",
    "            @test typeof(minimum_desired_reward_array) == Array{Float64,1}\n",
    "            @test length(minimum_desired_reward_array) == 301\n",
    "        end\n",
    "\n",
    "        @testset \"Efficient Frontiers\" begin\n",
    "            @test isdefined(Main, :efficient_frontier_sim_primary)\n",
    "            @test typeof(efficient_frontier_sim_primary) == Dict{Float64, NamedTuple}\n",
    "            @test length(efficient_frontier_sim_primary) > 0\n",
    "            @test isdefined(Main, :efficient_frontier_sim_twins)\n",
    "            @test typeof(efficient_frontier_sim_twins) == Dict{Float64, NamedTuple}\n",
    "            @test length(efficient_frontier_sim_twins) > 0\n",
    "        end\n",
    "\n",
    "        @testset \"Results Arrays\" begin\n",
    "            @test isdefined(Main, :results_array_sim_primary)\n",
    "            @test typeof(results_array_sim_primary) == Array{Float64,2}\n",
    "            @test size(results_array_sim_primary, 2) == length(my_primary_list_of_tickers) + 2\n",
    "            @test isdefined(Main, :results_array_sim_twins)\n",
    "            @test typeof(results_array_sim_twins) == Array{Float64,2}\n",
    "            @test size(results_array_sim_twins, 2) == length(my_list_of_twin_tickers) + 2\n",
    "        end\n",
    "    end\n",
    "\n",
    "    # Task 3: How do these portfolios perform?\n",
    "    @testset \"Task 3: Portfolio Performance\" begin\n",
    "        @testset \"Desired Growth Rate\" begin\n",
    "            @test isdefined(Main, :desired_growth_rate)\n",
    "            @test typeof(desired_growth_rate) == Float64\n",
    "            @test desired_growth_rate > 0\n",
    "        end\n",
    "\n",
    "        @testset \"Desired Solutions\" begin\n",
    "            @test isdefined(Main, :desired_solution_sim_primary)\n",
    "            @test typeof(desired_solution_sim_primary) == Dict{String, Any}\n",
    "            @test haskey(desired_solution_sim_primary, \"status\")\n",
    "            @test isdefined(Main, :desired_solution_sim_twins)\n",
    "            @test typeof(desired_solution_sim_twins) == Dict{String, Any}\n",
    "            @test haskey(desired_solution_sim_twins, \"status\")\n",
    "        end\n",
    "\n",
    "        @testset \"Shares\" begin\n",
    "            @test isdefined(Main, :n₁)\n",
    "            @test typeof(n₁) == Array{Float64,1}\n",
    "            @test length(n₁) == length(my_primary_list_of_tickers)\n",
    "            @test isdefined(Main, :n₂)\n",
    "            @test typeof(n₂) == Array{Float64,1}\n",
    "            @test length(n₂) == length(my_list_of_twin_tickers)\n",
    "            @test isdefined(Main, :n_alternative)\n",
    "            @test typeof(n_alternative) == Float64\n",
    "        end\n",
    "\n",
    "        @testset \"Wealth Trajectories\" begin\n",
    "            @test isdefined(Main, :W₁)\n",
    "            @test typeof(W₁) == Array{Float64,1}\n",
    "            @test length(W₁) == maximum_number_trading_days\n",
    "            @test isdefined(Main, :W₂)\n",
    "            @test typeof(W₂) == Array{Float64,1}\n",
    "            @test length(W₂) == maximum_number_trading_days\n",
    "            @test isdefined(Main, :Wₐ)\n",
    "            @test typeof(Wₐ) == Array{Float64,1}\n",
    "            @test length(Wₐ) == maximum_number_trading_days\n",
    "        end\n",
    "\n",
    "        @testset \"Discussion Question\" begin\n",
    "            @test isdefined(Main, :did_I_answer_the_discussion_questions_task_2)\n",
    "            @test did_I_answer_the_discussion_questions_task_2 == true\n",
    "            @test isdefined(Main, :did_I_answer_the_discussion_questions_for_task_3)\n",
    "            @test did_I_answer_the_discussion_questions_for_task_3 == true\n",
    "            @test isdefined(Main, :do_I_see_the_wealth_trajectory_plot)\n",
    "            @test do_I_see_the_wealth_trajectory_plot == true\n",
    "        end\n",
    "    end\n",
    "end;"
   ]
  },
  {
   "cell_type": "markdown",
   "id": "3c0258aa",
   "metadata": {},
   "source": [
    "___"
   ]
  },
  {
   "cell_type": "markdown",
   "id": "f5783b18-2f56-4641-9464-82658cc68a38",
   "metadata": {},
   "source": [
    "## Disclaimer and Risks\n",
    "__This content is offered solely for training and informational purposes__. No offer or solicitation to buy or sell securities or derivative products or any investment or trading advice or strategy is made, given, or endorsed by the teaching team. \n",
    "\n",
    "__Trading involves risk__. Carefully review your financial situation before investing in securities, futures contracts, options, or commodity interests. Past performance, whether actual or indicated by historical tests of strategies, is no guarantee of future performance or success. Trading is generally inappropriate for someone with limited resources, investment or trading experience, or a low-risk tolerance. Only risk capital that is not required for living expenses should be used.\n",
    "\n",
    "__You are fully responsible for any investment or trading decisions you make__. You should decide solely based on your financial circumstances, investment or trading objectives, risk tolerance, and liquidity needs."
   ]
  },
  {
   "cell_type": "markdown",
   "id": "31320f11",
   "metadata": {},
   "source": []
  }
 ],
 "metadata": {
  "kernelspec": {
   "display_name": "Julia 1.11.6",
   "language": "julia",
   "name": "julia-1.11"
  },
  "language_info": {
   "file_extension": ".jl",
   "mimetype": "application/julia",
   "name": "julia",
   "version": "1.11.6"
  }
 },
 "nbformat": 4,
 "nbformat_minor": 5
}
